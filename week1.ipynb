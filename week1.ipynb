{
 "cells": [
  {
   "cell_type": "code",
   "execution_count": 1,
   "metadata": {},
   "outputs": [],
   "source": [
    "import pandas as pd\n",
    "import datetime\n",
    "import numpy as np"
   ]
  },
  {
   "cell_type": "code",
   "execution_count": 2,
   "metadata": {},
   "outputs": [
    {
     "data": {
      "text/html": [
       "<div>\n",
       "<style scoped>\n",
       "    .dataframe tbody tr th:only-of-type {\n",
       "        vertical-align: middle;\n",
       "    }\n",
       "\n",
       "    .dataframe tbody tr th {\n",
       "        vertical-align: top;\n",
       "    }\n",
       "\n",
       "    .dataframe thead th {\n",
       "        text-align: right;\n",
       "    }\n",
       "</style>\n",
       "<table border=\"1\" class=\"dataframe\">\n",
       "  <thead>\n",
       "    <tr style=\"text-align: right;\">\n",
       "      <th></th>\n",
       "      <th>Date</th>\n",
       "      <th>Open</th>\n",
       "      <th>High</th>\n",
       "      <th>Low</th>\n",
       "      <th>Last</th>\n",
       "      <th>Close</th>\n",
       "      <th>Total Trade Quantity</th>\n",
       "      <th>Turnover (Lacs)</th>\n",
       "    </tr>\n",
       "  </thead>\n",
       "  <tbody>\n",
       "    <tr>\n",
       "      <th>0</th>\n",
       "      <td>2019-01-04</td>\n",
       "      <td>1097.40</td>\n",
       "      <td>1104.45</td>\n",
       "      <td>1081.1</td>\n",
       "      <td>1099.60</td>\n",
       "      <td>1098.65</td>\n",
       "      <td>8465141.0</td>\n",
       "      <td>92529.47</td>\n",
       "    </tr>\n",
       "    <tr>\n",
       "      <th>1</th>\n",
       "      <td>2019-01-03</td>\n",
       "      <td>1107.50</td>\n",
       "      <td>1114.60</td>\n",
       "      <td>1090.1</td>\n",
       "      <td>1090.30</td>\n",
       "      <td>1092.75</td>\n",
       "      <td>7446457.0</td>\n",
       "      <td>82012.92</td>\n",
       "    </tr>\n",
       "    <tr>\n",
       "      <th>2</th>\n",
       "      <td>2019-01-02</td>\n",
       "      <td>1114.50</td>\n",
       "      <td>1127.00</td>\n",
       "      <td>1101.0</td>\n",
       "      <td>1104.35</td>\n",
       "      <td>1106.40</td>\n",
       "      <td>7144970.0</td>\n",
       "      <td>79553.42</td>\n",
       "    </tr>\n",
       "    <tr>\n",
       "      <th>3</th>\n",
       "      <td>2019-01-01</td>\n",
       "      <td>1125.25</td>\n",
       "      <td>1127.30</td>\n",
       "      <td>1110.1</td>\n",
       "      <td>1120.50</td>\n",
       "      <td>1121.00</td>\n",
       "      <td>4455850.0</td>\n",
       "      <td>49861.29</td>\n",
       "    </tr>\n",
       "    <tr>\n",
       "      <th>4</th>\n",
       "      <td>2018-12-31</td>\n",
       "      <td>1130.95</td>\n",
       "      <td>1133.85</td>\n",
       "      <td>1116.2</td>\n",
       "      <td>1125.25</td>\n",
       "      <td>1121.25</td>\n",
       "      <td>7222817.0</td>\n",
       "      <td>81060.63</td>\n",
       "    </tr>\n",
       "  </tbody>\n",
       "</table>\n",
       "</div>"
      ],
      "text/plain": [
       "         Date     Open     High     Low     Last    Close  \\\n",
       "0  2019-01-04  1097.40  1104.45  1081.1  1099.60  1098.65   \n",
       "1  2019-01-03  1107.50  1114.60  1090.1  1090.30  1092.75   \n",
       "2  2019-01-02  1114.50  1127.00  1101.0  1104.35  1106.40   \n",
       "3  2019-01-01  1125.25  1127.30  1110.1  1120.50  1121.00   \n",
       "4  2018-12-31  1130.95  1133.85  1116.2  1125.25  1121.25   \n",
       "\n",
       "   Total Trade Quantity  Turnover (Lacs)  \n",
       "0             8465141.0         92529.47  \n",
       "1             7446457.0         82012.92  \n",
       "2             7144970.0         79553.42  \n",
       "3             4455850.0         49861.29  \n",
       "4             7222817.0         81060.63  "
      ]
     },
     "execution_count": 2,
     "metadata": {},
     "output_type": "execute_result"
    }
   ],
   "source": [
    "train=pd.read_csv(r'C:\\Users\\USER\\DS PROJECT\\NSE-RELIANCE.csv')\n",
    "train.head()"
   ]
  },
  {
   "cell_type": "code",
   "execution_count": 3,
   "metadata": {},
   "outputs": [
    {
     "data": {
      "text/html": [
       "<div>\n",
       "<style scoped>\n",
       "    .dataframe tbody tr th:only-of-type {\n",
       "        vertical-align: middle;\n",
       "    }\n",
       "\n",
       "    .dataframe tbody tr th {\n",
       "        vertical-align: top;\n",
       "    }\n",
       "\n",
       "    .dataframe thead th {\n",
       "        text-align: right;\n",
       "    }\n",
       "</style>\n",
       "<table border=\"1\" class=\"dataframe\">\n",
       "  <thead>\n",
       "    <tr style=\"text-align: right;\">\n",
       "      <th></th>\n",
       "      <th>Date</th>\n",
       "      <th>Open</th>\n",
       "      <th>High</th>\n",
       "      <th>Low</th>\n",
       "      <th>Last</th>\n",
       "      <th>Close</th>\n",
       "      <th>Total Trade Quantity</th>\n",
       "      <th>Turnover (Lacs)</th>\n",
       "    </tr>\n",
       "  </thead>\n",
       "  <tbody>\n",
       "    <tr>\n",
       "      <th>0</th>\n",
       "      <td>2019-01-04</td>\n",
       "      <td>1097.40</td>\n",
       "      <td>1104.45</td>\n",
       "      <td>1081.1</td>\n",
       "      <td>1099.60</td>\n",
       "      <td>1098.65</td>\n",
       "      <td>8465141.0</td>\n",
       "      <td>92529.47</td>\n",
       "    </tr>\n",
       "    <tr>\n",
       "      <th>1</th>\n",
       "      <td>2019-01-03</td>\n",
       "      <td>1107.50</td>\n",
       "      <td>1114.60</td>\n",
       "      <td>1090.1</td>\n",
       "      <td>1090.30</td>\n",
       "      <td>1092.75</td>\n",
       "      <td>7446457.0</td>\n",
       "      <td>82012.92</td>\n",
       "    </tr>\n",
       "    <tr>\n",
       "      <th>2</th>\n",
       "      <td>2019-01-02</td>\n",
       "      <td>1114.50</td>\n",
       "      <td>1127.00</td>\n",
       "      <td>1101.0</td>\n",
       "      <td>1104.35</td>\n",
       "      <td>1106.40</td>\n",
       "      <td>7144970.0</td>\n",
       "      <td>79553.42</td>\n",
       "    </tr>\n",
       "    <tr>\n",
       "      <th>3</th>\n",
       "      <td>2019-01-01</td>\n",
       "      <td>1125.25</td>\n",
       "      <td>1127.30</td>\n",
       "      <td>1110.1</td>\n",
       "      <td>1120.50</td>\n",
       "      <td>1121.00</td>\n",
       "      <td>4455850.0</td>\n",
       "      <td>49861.29</td>\n",
       "    </tr>\n",
       "    <tr>\n",
       "      <th>4</th>\n",
       "      <td>2018-12-31</td>\n",
       "      <td>1130.95</td>\n",
       "      <td>1133.85</td>\n",
       "      <td>1116.2</td>\n",
       "      <td>1125.25</td>\n",
       "      <td>1121.25</td>\n",
       "      <td>7222817.0</td>\n",
       "      <td>81060.63</td>\n",
       "    </tr>\n",
       "  </tbody>\n",
       "</table>\n",
       "</div>"
      ],
      "text/plain": [
       "         Date     Open     High     Low     Last    Close  \\\n",
       "0  2019-01-04  1097.40  1104.45  1081.1  1099.60  1098.65   \n",
       "1  2019-01-03  1107.50  1114.60  1090.1  1090.30  1092.75   \n",
       "2  2019-01-02  1114.50  1127.00  1101.0  1104.35  1106.40   \n",
       "3  2019-01-01  1125.25  1127.30  1110.1  1120.50  1121.00   \n",
       "4  2018-12-31  1130.95  1133.85  1116.2  1125.25  1121.25   \n",
       "\n",
       "   Total Trade Quantity  Turnover (Lacs)  \n",
       "0             8465141.0         92529.47  \n",
       "1             7446457.0         82012.92  \n",
       "2             7144970.0         79553.42  \n",
       "3             4455850.0         49861.29  \n",
       "4             7222817.0         81060.63  "
      ]
     },
     "execution_count": 3,
     "metadata": {},
     "output_type": "execute_result"
    }
   ],
   "source": [
    "train=train.fillna(method='ffill')\n",
    "train.head()"
   ]
  },
  {
   "cell_type": "code",
   "execution_count": 4,
   "metadata": {},
   "outputs": [],
   "source": [
    "from datetime import date\n",
    "from dateutil.relativedelta import relativedelta\n",
    "datee= pd.to_datetime(train['Date'][0]) \n",
    "y= datee.year\n",
    "m= datee.month\n",
    "d= datee.day\n",
    "last_three_months = datetime.date(y,m,d)+ relativedelta(months=-3) "
   ]
  },
  {
   "cell_type": "code",
   "execution_count": 5,
   "metadata": {},
   "outputs": [
    {
     "name": "stdout",
     "output_type": "stream",
     "text": [
      "total numbers of data in last 3 months: 63\n"
     ]
    }
   ],
   "source": [
    "d1=train['Date'][0]\n",
    "d2=str(last_three_months)\n",
    "length=0\n",
    "for i in train['Date']:\n",
    "    if i>=d2 and i<=d1:\n",
    "        length+=1\n",
    "\n",
    "print('total numbers of data in last 3 months:',length)"
   ]
  },
  {
   "cell_type": "code",
   "execution_count": 6,
   "metadata": {},
   "outputs": [
    {
     "name": "stdout",
     "output_type": "stream",
     "text": [
      "0     1098.65\n",
      "1     1092.75\n",
      "2     1106.40\n",
      "3     1121.00\n",
      "4     1121.25\n",
      "       ...   \n",
      "58    1102.10\n",
      "59    1090.05\n",
      "60    1109.40\n",
      "61    1048.85\n",
      "62    1122.25\n",
      "Name: Close, Length: 63, dtype: float64\n"
     ]
    },
    {
     "data": {
      "image/png": "[encoded data removed]",
      "text/plain": [
       "<Figure size 432x288 with 1 Axes>"
      ]
     },
     "metadata": {
      "needs_background": "light"
     },
     "output_type": "display_data"
    },
    {
     "name": "stdout",
     "output_type": "stream",
     "text": [
      "\n",
      "\n",
      "Closing price varies from  1098.65  to  1122.25\n"
     ]
    }
   ],
   "source": [
    "import matplotlib.pyplot as plt\n",
    "print(train['Close'][0:length])\n",
    "plt.title(\"last 3 months data\")\n",
    "plt.plot(train['Date'][0:length],train['Close'][0:length])\n",
    "plt.xlabel('Date')\n",
    "plt.ylabel('Closing Price')\n",
    "plt.show()\n",
    "print('\\n\\nClosing price varies from ',train['Close'][0],' to ',train['Close'][length-1])"
   ]
  },
  {
   "cell_type": "code",
   "execution_count": 7,
   "metadata": {},
   "outputs": [
    {
     "data": {
      "text/html": [
       "<div>\n",
       "<style scoped>\n",
       "    .dataframe tbody tr th:only-of-type {\n",
       "        vertical-align: middle;\n",
       "    }\n",
       "\n",
       "    .dataframe tbody tr th {\n",
       "        vertical-align: top;\n",
       "    }\n",
       "\n",
       "    .dataframe thead th {\n",
       "        text-align: right;\n",
       "    }\n",
       "</style>\n",
       "<table border=\"1\" class=\"dataframe\">\n",
       "  <thead>\n",
       "    <tr style=\"text-align: right;\">\n",
       "      <th></th>\n",
       "      <th>Date</th>\n",
       "      <th>Open</th>\n",
       "      <th>High</th>\n",
       "      <th>Low</th>\n",
       "      <th>Last</th>\n",
       "      <th>Close</th>\n",
       "      <th>Total Trade Quantity</th>\n",
       "      <th>Turnover (Lacs)</th>\n",
       "      <th>year</th>\n",
       "      <th>month</th>\n",
       "      <th>day</th>\n",
       "      <th>weekday</th>\n",
       "      <th>weekday_name</th>\n",
       "    </tr>\n",
       "  </thead>\n",
       "  <tbody>\n",
       "    <tr>\n",
       "      <th>0</th>\n",
       "      <td>2019-01-04</td>\n",
       "      <td>1097.40</td>\n",
       "      <td>1104.45</td>\n",
       "      <td>1081.1</td>\n",
       "      <td>1099.60</td>\n",
       "      <td>1098.65</td>\n",
       "      <td>8465141.0</td>\n",
       "      <td>92529.47</td>\n",
       "      <td>2019</td>\n",
       "      <td>1</td>\n",
       "      <td>4</td>\n",
       "      <td>4</td>\n",
       "      <td>Friday</td>\n",
       "    </tr>\n",
       "    <tr>\n",
       "      <th>1</th>\n",
       "      <td>2019-01-03</td>\n",
       "      <td>1107.50</td>\n",
       "      <td>1114.60</td>\n",
       "      <td>1090.1</td>\n",
       "      <td>1090.30</td>\n",
       "      <td>1092.75</td>\n",
       "      <td>7446457.0</td>\n",
       "      <td>82012.92</td>\n",
       "      <td>2019</td>\n",
       "      <td>1</td>\n",
       "      <td>3</td>\n",
       "      <td>3</td>\n",
       "      <td>Thursday</td>\n",
       "    </tr>\n",
       "    <tr>\n",
       "      <th>2</th>\n",
       "      <td>2019-01-02</td>\n",
       "      <td>1114.50</td>\n",
       "      <td>1127.00</td>\n",
       "      <td>1101.0</td>\n",
       "      <td>1104.35</td>\n",
       "      <td>1106.40</td>\n",
       "      <td>7144970.0</td>\n",
       "      <td>79553.42</td>\n",
       "      <td>2019</td>\n",
       "      <td>1</td>\n",
       "      <td>2</td>\n",
       "      <td>2</td>\n",
       "      <td>Wednesday</td>\n",
       "    </tr>\n",
       "    <tr>\n",
       "      <th>3</th>\n",
       "      <td>2019-01-01</td>\n",
       "      <td>1125.25</td>\n",
       "      <td>1127.30</td>\n",
       "      <td>1110.1</td>\n",
       "      <td>1120.50</td>\n",
       "      <td>1121.00</td>\n",
       "      <td>4455850.0</td>\n",
       "      <td>49861.29</td>\n",
       "      <td>2019</td>\n",
       "      <td>1</td>\n",
       "      <td>1</td>\n",
       "      <td>1</td>\n",
       "      <td>Tuesday</td>\n",
       "    </tr>\n",
       "    <tr>\n",
       "      <th>4</th>\n",
       "      <td>2018-12-31</td>\n",
       "      <td>1130.95</td>\n",
       "      <td>1133.85</td>\n",
       "      <td>1116.2</td>\n",
       "      <td>1125.25</td>\n",
       "      <td>1121.25</td>\n",
       "      <td>7222817.0</td>\n",
       "      <td>81060.63</td>\n",
       "      <td>2018</td>\n",
       "      <td>12</td>\n",
       "      <td>31</td>\n",
       "      <td>0</td>\n",
       "      <td>Monday</td>\n",
       "    </tr>\n",
       "  </tbody>\n",
       "</table>\n",
       "</div>"
      ],
      "text/plain": [
       "        Date     Open     High     Low     Last    Close  \\\n",
       "0 2019-01-04  1097.40  1104.45  1081.1  1099.60  1098.65   \n",
       "1 2019-01-03  1107.50  1114.60  1090.1  1090.30  1092.75   \n",
       "2 2019-01-02  1114.50  1127.00  1101.0  1104.35  1106.40   \n",
       "3 2019-01-01  1125.25  1127.30  1110.1  1120.50  1121.00   \n",
       "4 2018-12-31  1130.95  1133.85  1116.2  1125.25  1121.25   \n",
       "\n",
       "   Total Trade Quantity  Turnover (Lacs)  year  month  day  weekday  \\\n",
       "0             8465141.0         92529.47  2019      1    4        4   \n",
       "1             7446457.0         82012.92  2019      1    3        3   \n",
       "2             7144970.0         79553.42  2019      1    2        2   \n",
       "3             4455850.0         49861.29  2019      1    1        1   \n",
       "4             7222817.0         81060.63  2018     12   31        0   \n",
       "\n",
       "  weekday_name  \n",
       "0       Friday  \n",
       "1     Thursday  \n",
       "2    Wednesday  \n",
       "3      Tuesday  \n",
       "4       Monday  "
      ]
     },
     "execution_count": 7,
     "metadata": {},
     "output_type": "execute_result"
    }
   ],
   "source": [
    "import datetime\n",
    "train['Date']= pd.to_datetime(train['Date']) \n",
    "train['year'] = train['Date'].dt.year\n",
    "train['month'] = train['Date'].dt.month\n",
    "train['day'] = train['Date'].dt.day\n",
    "train['weekday'] = train['Date'].dt.weekday\n",
    "train['weekday_name'] = train['Date'].dt.day_name()\n",
    "train.head(5)"
   ]
  },
  {
   "cell_type": "code",
   "execution_count": 8,
   "metadata": {},
   "outputs": [
    {
     "data": {
      "text/html": [
       "<div>\n",
       "<style scoped>\n",
       "    .dataframe tbody tr th:only-of-type {\n",
       "        vertical-align: middle;\n",
       "    }\n",
       "\n",
       "    .dataframe tbody tr th {\n",
       "        vertical-align: top;\n",
       "    }\n",
       "\n",
       "    .dataframe thead th {\n",
       "        text-align: right;\n",
       "    }\n",
       "</style>\n",
       "<table border=\"1\" class=\"dataframe\">\n",
       "  <thead>\n",
       "    <tr style=\"text-align: right;\">\n",
       "      <th></th>\n",
       "      <th>day</th>\n",
       "      <th>month</th>\n",
       "      <th>year</th>\n",
       "      <th>weekday</th>\n",
       "      <th>weekday_name</th>\n",
       "      <th>Close</th>\n",
       "    </tr>\n",
       "  </thead>\n",
       "  <tbody>\n",
       "    <tr>\n",
       "      <th>5179</th>\n",
       "      <td>26</td>\n",
       "      <td>3</td>\n",
       "      <td>1998</td>\n",
       "      <td>3</td>\n",
       "      <td>Thursday</td>\n",
       "      <td>179.45</td>\n",
       "    </tr>\n",
       "    <tr>\n",
       "      <th>5180</th>\n",
       "      <td>25</td>\n",
       "      <td>3</td>\n",
       "      <td>1998</td>\n",
       "      <td>2</td>\n",
       "      <td>Wednesday</td>\n",
       "      <td>183.85</td>\n",
       "    </tr>\n",
       "    <tr>\n",
       "      <th>5181</th>\n",
       "      <td>24</td>\n",
       "      <td>3</td>\n",
       "      <td>1998</td>\n",
       "      <td>1</td>\n",
       "      <td>Tuesday</td>\n",
       "      <td>178.70</td>\n",
       "    </tr>\n",
       "    <tr>\n",
       "      <th>5182</th>\n",
       "      <td>23</td>\n",
       "      <td>3</td>\n",
       "      <td>1998</td>\n",
       "      <td>0</td>\n",
       "      <td>Monday</td>\n",
       "      <td>180.20</td>\n",
       "    </tr>\n",
       "    <tr>\n",
       "      <th>5183</th>\n",
       "      <td>20</td>\n",
       "      <td>3</td>\n",
       "      <td>1998</td>\n",
       "      <td>4</td>\n",
       "      <td>Friday</td>\n",
       "      <td>180.20</td>\n",
       "    </tr>\n",
       "  </tbody>\n",
       "</table>\n",
       "</div>"
      ],
      "text/plain": [
       "      day  month  year  weekday weekday_name   Close\n",
       "5179   26      3  1998        3     Thursday  179.45\n",
       "5180   25      3  1998        2    Wednesday  183.85\n",
       "5181   24      3  1998        1      Tuesday  178.70\n",
       "5182   23      3  1998        0       Monday  180.20\n",
       "5183   20      3  1998        4       Friday  180.20"
      ]
     },
     "execution_count": 8,
     "metadata": {},
     "output_type": "execute_result"
    }
   ],
   "source": [
    "new_df1=pd.DataFrame(train,columns=['day','month','year','weekday','weekday_name','Close'])\n",
    "new_df1.tail()"
   ]
  },
  {
   "cell_type": "code",
   "execution_count": 9,
   "metadata": {},
   "outputs": [],
   "source": [
    "datee= pd.to_datetime(train['Date'][0]) \n",
    "yy= datee.year\n",
    "m= datee.month\n",
    "d= datee.day\n",
    "last_two_months = datetime.date(yy,m,d)+ relativedelta(months=-2) "
   ]
  },
  {
   "cell_type": "code",
   "execution_count": 10,
   "metadata": {},
   "outputs": [
    {
     "name": "stdout",
     "output_type": "stream",
     "text": [
      "total numbers of data in last 2 months: 42\n"
     ]
    }
   ],
   "source": [
    "d1=train['Date'][0]\n",
    "d2=last_two_months\n",
    "length=0\n",
    "for i in train['Date']:\n",
    "    if i>=d2 and i<=d1:\n",
    "        length+=1\n",
    "\n",
    "print('total numbers of data in last 2 months:',length)"
   ]
  },
  {
   "cell_type": "code",
   "execution_count": 11,
   "metadata": {},
   "outputs": [
    {
     "data": {
      "text/html": [
       "<div>\n",
       "<style scoped>\n",
       "    .dataframe tbody tr th:only-of-type {\n",
       "        vertical-align: middle;\n",
       "    }\n",
       "\n",
       "    .dataframe tbody tr th {\n",
       "        vertical-align: top;\n",
       "    }\n",
       "\n",
       "    .dataframe thead th {\n",
       "        text-align: right;\n",
       "    }\n",
       "</style>\n",
       "<table border=\"1\" class=\"dataframe\">\n",
       "  <thead>\n",
       "    <tr style=\"text-align: right;\">\n",
       "      <th></th>\n",
       "      <th>day</th>\n",
       "      <th>month</th>\n",
       "      <th>year</th>\n",
       "      <th>weekday</th>\n",
       "      <th>weekday_name</th>\n",
       "      <th>Close</th>\n",
       "    </tr>\n",
       "  </thead>\n",
       "  <tbody>\n",
       "    <tr>\n",
       "      <th>37</th>\n",
       "      <td>12</td>\n",
       "      <td>11</td>\n",
       "      <td>2018</td>\n",
       "      <td>0</td>\n",
       "      <td>Monday</td>\n",
       "      <td>1080.00</td>\n",
       "    </tr>\n",
       "    <tr>\n",
       "      <th>38</th>\n",
       "      <td>9</td>\n",
       "      <td>11</td>\n",
       "      <td>2018</td>\n",
       "      <td>4</td>\n",
       "      <td>Friday</td>\n",
       "      <td>1093.45</td>\n",
       "    </tr>\n",
       "    <tr>\n",
       "      <th>39</th>\n",
       "      <td>7</td>\n",
       "      <td>11</td>\n",
       "      <td>2018</td>\n",
       "      <td>2</td>\n",
       "      <td>Wednesday</td>\n",
       "      <td>1110.70</td>\n",
       "    </tr>\n",
       "    <tr>\n",
       "      <th>40</th>\n",
       "      <td>6</td>\n",
       "      <td>11</td>\n",
       "      <td>2018</td>\n",
       "      <td>1</td>\n",
       "      <td>Tuesday</td>\n",
       "      <td>1104.10</td>\n",
       "    </tr>\n",
       "    <tr>\n",
       "      <th>41</th>\n",
       "      <td>5</td>\n",
       "      <td>11</td>\n",
       "      <td>2018</td>\n",
       "      <td>0</td>\n",
       "      <td>Monday</td>\n",
       "      <td>1090.30</td>\n",
       "    </tr>\n",
       "  </tbody>\n",
       "</table>\n",
       "</div>"
      ],
      "text/plain": [
       "    day  month  year  weekday weekday_name    Close\n",
       "37   12     11  2018        0       Monday  1080.00\n",
       "38    9     11  2018        4       Friday  1093.45\n",
       "39    7     11  2018        2    Wednesday  1110.70\n",
       "40    6     11  2018        1      Tuesday  1104.10\n",
       "41    5     11  2018        0       Monday  1090.30"
      ]
     },
     "execution_count": 11,
     "metadata": {},
     "output_type": "execute_result"
    }
   ],
   "source": [
    "new_df=new_df1[0:length]\n",
    "new_df.tail()"
   ]
  },
  {
   "cell_type": "code",
   "execution_count": 12,
   "metadata": {},
   "outputs": [],
   "source": [
    "x=new_df[['month','day','weekday']].values\n",
    "y=new_df['Close'].values"
   ]
  },
  {
   "cell_type": "code",
   "execution_count": 13,
   "metadata": {},
   "outputs": [],
   "source": [
    "from sklearn.linear_model import LinearRegression\n",
    "from sklearn.model_selection import train_test_split\n",
    "from sklearn import metrics\n",
    "from sklearn.metrics import accuracy_score"
   ]
  },
  {
   "cell_type": "code",
   "execution_count": 14,
   "metadata": {},
   "outputs": [
    {
     "name": "stdout",
     "output_type": "stream",
     "text": [
      "[1122.66419264 1124.84165008 1125.41821168 1129.6398938  1121.66611747\n",
      " 1120.48673519 1127.88394992 1124.13185572 1127.30738833 1125.12993088\n",
      " 1120.19845439 1121.08955588 1122.08763104 1106.38142598 1127.01910753\n",
      " 1128.77505141 1121.37783667]\n"
     ]
    }
   ],
   "source": [
    "x_train,x_test,y_train,y_test=train_test_split(x,y,test_size=0.4,random_state=0)\n",
    "reg=LinearRegression()\n",
    "reg.fit(x_train,y_train)\n",
    "y_pred=reg.predict(x_test)\n",
    "print(y_pred)"
   ]
  },
  {
   "cell_type": "code",
   "execution_count": 16,
   "metadata": {},
   "outputs": [
    {
     "data": {
      "text/html": [
       "<div>\n",
       "<style scoped>\n",
       "    .dataframe tbody tr th:only-of-type {\n",
       "        vertical-align: middle;\n",
       "    }\n",
       "\n",
       "    .dataframe tbody tr th {\n",
       "        vertical-align: top;\n",
       "    }\n",
       "\n",
       "    .dataframe thead th {\n",
       "        text-align: right;\n",
       "    }\n",
       "</style>\n",
       "<table border=\"1\" class=\"dataframe\">\n",
       "  <thead>\n",
       "    <tr style=\"text-align: right;\">\n",
       "      <th></th>\n",
       "      <th>Actual</th>\n",
       "      <th>Predicted</th>\n",
       "    </tr>\n",
       "  </thead>\n",
       "  <tbody>\n",
       "    <tr>\n",
       "      <th>0</th>\n",
       "      <td>1112.90</td>\n",
       "      <td>1122.664193</td>\n",
       "    </tr>\n",
       "    <tr>\n",
       "      <th>1</th>\n",
       "      <td>1099.45</td>\n",
       "      <td>1124.841650</td>\n",
       "    </tr>\n",
       "    <tr>\n",
       "      <th>2</th>\n",
       "      <td>1128.20</td>\n",
       "      <td>1125.418212</td>\n",
       "    </tr>\n",
       "    <tr>\n",
       "      <th>3</th>\n",
       "      <td>1121.25</td>\n",
       "      <td>1129.639894</td>\n",
       "    </tr>\n",
       "    <tr>\n",
       "      <th>4</th>\n",
       "      <td>1128.45</td>\n",
       "      <td>1121.666117</td>\n",
       "    </tr>\n",
       "  </tbody>\n",
       "</table>\n",
       "</div>"
      ],
      "text/plain": [
       "    Actual    Predicted\n",
       "0  1112.90  1122.664193\n",
       "1  1099.45  1124.841650\n",
       "2  1128.20  1125.418212\n",
       "3  1121.25  1129.639894\n",
       "4  1128.45  1121.666117"
      ]
     },
     "execution_count": 16,
     "metadata": {},
     "output_type": "execute_result"
    }
   ],
   "source": [
    "df=pd.DataFrame({'Actual':y_test,'Predicted':y_pred})\n",
    "df.head()"
   ]
  },
  {
   "cell_type": "code",
   "execution_count": 17,
   "metadata": {},
   "outputs": [
    {
     "data": {
      "image/png": "[encoded data removed]",
      "text/plain": [
       "<Figure size 432x288 with 1 Axes>"
      ]
     },
     "metadata": {
      "needs_background": "light"
     },
     "output_type": "display_data"
    }
   ],
   "source": [
    "import matplotlib.pyplot as plt\n",
    "df.plot(kind='line')\n",
    "plt.xlabel('Date')\n",
    "plt.ylabel('Closing Price')\n",
    "plt.title('Last 2 months')\n",
    "plt.show()"
   ]
  },
  {
   "cell_type": "code",
   "execution_count": 18,
   "metadata": {},
   "outputs": [],
   "source": [
    "from sklearn import metrics\n",
    "import numpy as np"
   ]
  },
  {
   "cell_type": "code",
   "execution_count": 81,
   "metadata": {},
   "outputs": [
    {
     "name": "stdout",
     "output_type": "stream",
     "text": [
      "Root Mean Squared Error: 23.667210948441905\n"
     ]
    }
   ],
   "source": [
    "rmse=np.sqrt(metrics.mean_squared_error(y_test, y_pred))\n",
    "print('Root Mean Squared Error:', rmse)"
   ]
  },
  {
   "cell_type": "code",
   "execution_count": 82,
   "metadata": {},
   "outputs": [
    {
     "name": "stdout",
     "output_type": "stream",
     "text": [
      "Enter date in (DD MM YYYY) format:04 01 2019\n"
     ]
    }
   ],
   "source": [
    "user_in=input('Enter date in (DD MM YYYY) format:')"
   ]
  },
  {
   "cell_type": "code",
   "execution_count": 83,
   "metadata": {},
   "outputs": [
    {
     "name": "stdout",
     "output_type": "stream",
     "text": [
      "Predicted closing price: [1101.44994949]\n"
     ]
    }
   ],
   "source": [
    "import re\n",
    "import datetime\n",
    "from datetime import date\n",
    "match=re.search(r'\\d{2} \\d{2} \\d{4}',user_in)\n",
    "date=datetime.datetime.strptime(match.group(),'%d %m %Y').date()\n",
    "yy,m,d=int(date.year),int(date.month),int(date.day)\n",
    "day=datetime.datetime.strptime(user_in,'%d %m %Y').weekday()\n",
    "\n",
    "feature_x=[]\n",
    "feature_x_=[]\n",
    "feature_x.append(m)\n",
    "feature_x.append(d)\n",
    "feature_x.append(day)\n",
    "feature_x_.append(feature_x)\n",
    "y_pred=reg.predict(feature_x_)\n",
    "print(\"Predicted closing price:\",y_pred)"
   ]
  },
  {
   "cell_type": "code",
   "execution_count": null,
   "metadata": {},
   "outputs": [],
   "source": []
  }
 ],
 "metadata": {
  "kernelspec": {
   "display_name": "Python 3",
   "language": "python",
   "name": "python3"
  },
  "language_info": {
   "codemirror_mode": {
    "name": "ipython",
    "version": 3
   },
   "file_extension": ".py",
   "mimetype": "text/x-python",
   "name": "python",
   "nbconvert_exporter": "python",
   "pygments_lexer": "ipython3",
   "version": "3.7.6"
  }
 },
 "nbformat": 4,
 "nbformat_minor": 4
}
