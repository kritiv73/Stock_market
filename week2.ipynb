{
 "cells": [
  {
   "cell_type": "code",
   "execution_count": 19,
   "metadata": {},
   "outputs": [],
   "source": [
    "import import_ipynb"
   ]
  },
  {
   "cell_type": "code",
   "execution_count": 20,
   "metadata": {},
   "outputs": [],
   "source": [
    "import week1"
   ]
  },
  {
   "cell_type": "code",
   "execution_count": 21,
   "metadata": {},
   "outputs": [],
   "source": [
    "import pandas as pd\n",
    "import numpy as np\n",
    "from sklearn import model_selection\n",
    "from sklearn.model_selection import GridSearchCV\n",
    "from sklearn.linear_model import Ridge\n",
    "from sklearn.linear_model import Lasso\n",
    "from sklearn import metrics\n",
    "from sklearn.metrics import mean_squared_error\n",
    "from math import sqrt\n",
    "from sklearn.metrics import r2_score\n",
    "from sklearn.model_selection import train_test_split"
   ]
  },
  {
   "cell_type": "code",
   "execution_count": 22,
   "metadata": {},
   "outputs": [],
   "source": [
    "from week1 import new_df\n",
    "x=new_df.drop(['Close','weekday_name'],axis=1)\n",
    "y=new_df['Close'].values"
   ]
  },
  {
   "cell_type": "code",
   "execution_count": 23,
   "metadata": {},
   "outputs": [],
   "source": [
    "x_train,x_test,y_train,y_test=train_test_split(x,y,test_size=0.4,random_state=0)"
   ]
  },
  {
   "cell_type": "code",
   "execution_count": 24,
   "metadata": {},
   "outputs": [
    {
     "data": {
      "text/plain": [
       "GridSearchCV(cv=5, error_score=nan,\n",
       "             estimator=Ridge(alpha=1.0, copy_X=True, fit_intercept=True,\n",
       "                             max_iter=None, normalize=False, random_state=None,\n",
       "                             solver='auto', tol=0.001),\n",
       "             iid='deprecated', n_jobs=None,\n",
       "             param_grid={'alpha': [0.1, 0.2, 0.3, 0.4, 0.5, 0.6, 0.7, 0.8, 0.9,\n",
       "                                   1, 10, 100, 1000, 10000]},\n",
       "             pre_dispatch='2*n_jobs', refit=True, return_train_score=False,\n",
       "             scoring='neg_mean_squared_error', verbose=0)"
      ]
     },
     "execution_count": 24,
     "metadata": {},
     "output_type": "execute_result"
    }
   ],
   "source": [
    "#specify L2 regularization(Ridge)\n",
    "rd=Ridge()\n",
    "parameters={'alpha':[0.1,0.2,0.3,0.4,0.5,0.6,0.7,0.8,0.9,1,10,100,1000,10000]}\n",
    "rd_reg=GridSearchCV(rd,parameters,scoring='neg_mean_squared_error',cv=5)\n",
    "rd_reg.fit(x_train,y_train)"
   ]
  },
  {
   "cell_type": "code",
   "execution_count": 31,
   "metadata": {},
   "outputs": [
    {
     "name": "stdout",
     "output_type": "stream",
     "text": [
      "\n",
      "Ridge Regression\n",
      "\n",
      "Best parameters: {'alpha': 100}\n",
      "Best score: -635.5290812848493\n",
      "Total number of features: 4\n",
      "Number of selected features: 4\n",
      "RMSE for Ridge: 22.133567259980616\n"
     ]
    }
   ],
   "source": [
    "print('\\nRidge Regression\\n')\n",
    "print(\"Best parameters:\",rd_reg.best_params_)\n",
    "print(\"Best score:\",rd_reg.best_score_)\n",
    "best_lr=rd_reg.best_estimator_\n",
    "coefs=best_lr.coef_\n",
    "print(\"Total number of features:\",coefs.size)\n",
    "print(\"Number of selected features:\",np.count_nonzero(coefs))\n",
    "rd_pred=rd_reg.predict(x_test)\n",
    "rd_rmse=np.sqrt(metrics.mean_squared_error(y_test, rd_pred))\n",
    "print(\"RMSE for Ridge:\",rd_rmse)"
   ]
  },
  {
   "cell_type": "code",
   "execution_count": 32,
   "metadata": {},
   "outputs": [
    {
     "data": {
      "text/plain": [
       "<matplotlib.axes._subplots.AxesSubplot at 0x21139e29cc8>"
      ]
     },
     "execution_count": 32,
     "metadata": {},
     "output_type": "execute_result"
    },
    {
     "data": {
      "image/png": "[encoded data removed]",
      "text/plain": [
       "<Figure size 432x288 with 1 Axes>"
      ]
     },
     "metadata": {
      "needs_background": "light"
     },
     "output_type": "display_data"
    }
   ],
   "source": [
    "import seaborn as sns\n",
    "sns.distplot(y_test-rd_pred)"
   ]
  },
  {
   "cell_type": "code",
   "execution_count": 33,
   "metadata": {},
   "outputs": [
    {
     "data": {
      "text/plain": [
       "GridSearchCV(cv=5, error_score=nan,\n",
       "             estimator=Lasso(alpha=1.0, copy_X=True, fit_intercept=True,\n",
       "                             max_iter=1000, normalize=False, positive=False,\n",
       "                             precompute=False, random_state=None,\n",
       "                             selection='cyclic', tol=0.0001, warm_start=False),\n",
       "             iid='deprecated', n_jobs=None,\n",
       "             param_grid={'alpha': [0.1, 0.2, 0.3, 0.4, 0.5, 0.6, 0.7, 0.8, 0.9,\n",
       "                                   1, 10, 100, 1000, 10000]},\n",
       "             pre_dispatch='2*n_jobs', refit=True, return_train_score=False,\n",
       "             scoring='neg_mean_squared_error', verbose=0)"
      ]
     },
     "execution_count": 33,
     "metadata": {},
     "output_type": "execute_result"
    }
   ],
   "source": [
    "#specify L1 regularization(Lasso)\n",
    "ls=Lasso()\n",
    "parameters={'alpha':[0.1,0.2,0.3,0.4,0.5,0.6,0.7,0.8,0.9,1,10,100,1000,10000]}\n",
    "ls_reg=GridSearchCV(ls,parameters,scoring='neg_mean_squared_error',cv=5)\n",
    "ls_reg.fit(x_train,y_train)"
   ]
  },
  {
   "cell_type": "code",
   "execution_count": 35,
   "metadata": {},
   "outputs": [
    {
     "name": "stdout",
     "output_type": "stream",
     "text": [
      "\n",
      "Lasso Regression\n",
      "\n",
      "Best parameters: {'alpha': 10}\n",
      "Best score: -643.2345918873684\n",
      "Total number of features: 4\n",
      "Number of selected features: 1\n",
      "RMSE for Lasso: 22.133567259980616\n"
     ]
    }
   ],
   "source": [
    "print('\\nLasso Regression\\n')\n",
    "print(\"Best parameters:\",ls_reg.best_params_)\n",
    "print(\"Best score:\",ls_reg.best_score_)\n",
    "best_lr=ls_reg.best_estimator_\n",
    "coefs=best_lr.coef_\n",
    "print(\"Total number of features:\",coefs.size)\n",
    "print(\"Number of selected features:\",np.count_nonzero(coefs))\n",
    "ls_pred=ls_reg.predict(x_test)\n",
    "ls_rmse=np.sqrt(metrics.mean_squared_error(y_test, ls_pred))\n",
    "print(\"RMSE for Lasso:\",rd_rmse)"
   ]
  },
  {
   "cell_type": "code",
   "execution_count": 37,
   "metadata": {},
   "outputs": [
    {
     "name": "stdout",
     "output_type": "stream",
     "text": [
      "lasso prediction: [1121.3846326  1121.3846326  1121.3846326  1122.29499605 1122.29499605\n",
      " 1121.3846326  1121.3846326  1122.29499605 1121.3846326  1121.3846326\n",
      " 1121.3846326  1122.29499605 1121.3846326  1112.28099816 1121.3846326\n",
      " 1122.29499605 1122.29499605]\n",
      "\n",
      "\n",
      "ridge prediction: [1122.20223914 1122.64667434 1123.49001514 1125.86056549 1122.41890787\n",
      " 1121.75780393 1124.35612075 1123.28501347 1123.51277994 1123.06834474\n",
      " 1121.33613353 1121.57556706 1121.35889833 1108.89952558 1123.09110954\n",
      " 1124.59555428 1121.99723747]\n"
     ]
    }
   ],
   "source": [
    "print('lasso prediction:',ls_pred)\n",
    "print('\\n\\nridge prediction:',rd_pred)"
   ]
  },
  {
   "cell_type": "code",
   "execution_count": 38,
   "metadata": {},
   "outputs": [
    {
     "data": {
      "text/plain": [
       "<matplotlib.axes._subplots.AxesSubplot at 0x2113abc7d88>"
      ]
     },
     "execution_count": 38,
     "metadata": {},
     "output_type": "execute_result"
    },
    {
     "data": {
      "image/png": "[encoded data removed]",
      "text/plain": [
       "<Figure size 432x288 with 1 Axes>"
      ]
     },
     "metadata": {
      "needs_background": "light"
     },
     "output_type": "display_data"
    }
   ],
   "source": [
    "import seaborn as sns\n",
    "sns.distplot(y_test-ls_pred)"
   ]
  },
  {
   "cell_type": "code",
   "execution_count": null,
   "metadata": {},
   "outputs": [],
   "source": []
  },
  {
   "cell_type": "code",
   "execution_count": null,
   "metadata": {},
   "outputs": [],
   "source": []
  }
 ],
 "metadata": {
  "kernelspec": {
   "display_name": "Python 3",
   "language": "python",
   "name": "python3"
  },
  "language_info": {
   "codemirror_mode": {
    "name": "ipython",
    "version": 3
   },
   "file_extension": ".py",
   "mimetype": "text/x-python",
   "name": "python",
   "nbconvert_exporter": "python",
   "pygments_lexer": "ipython3",
   "version": "3.7.6"
  }
 },
 "nbformat": 4,
 "nbformat_minor": 4
}
